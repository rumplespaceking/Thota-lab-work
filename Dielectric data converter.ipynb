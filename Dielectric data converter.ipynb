{
 "cells": [
  {
   "cell_type": "code",
   "execution_count": 3,
   "id": "0dec7ecb",
   "metadata": {},
   "outputs": [],
   "source": [
    "import pandas as pd\n",
    "import numpy as np\n",
    "import matplotlib.pyplot as plt\n",
    "import xlsxwriter as xl\n"
   ]
  },
  {
   "cell_type": "code",
   "execution_count": 4,
   "id": "2ab89468",
   "metadata": {
    "scrolled": true
   },
   "outputs": [
    {
     "name": "stderr",
     "output_type": "stream",
     "text": [
      "C:\\Users\\Admin\\anaconda3\\lib\\site-packages\\IPython\\core\\interactiveshell.py:3165: DtypeWarning: Columns (0,1,2,3) have mixed types.Specify dtype option on import or set low_memory=False.\n",
      "  has_raised = await self.run_ast_nodes(code_ast.body, cell_name,\n"
     ]
    },
    {
     "data": {
      "text/html": [
       "<div>\n",
       "<style scoped>\n",
       "    .dataframe tbody tr th:only-of-type {\n",
       "        vertical-align: middle;\n",
       "    }\n",
       "\n",
       "    .dataframe tbody tr th {\n",
       "        vertical-align: top;\n",
       "    }\n",
       "\n",
       "    .dataframe thead th {\n",
       "        text-align: right;\n",
       "    }\n",
       "</style>\n",
       "<table border=\"1\" class=\"dataframe\">\n",
       "  <thead>\n",
       "    <tr style=\"text-align: right;\">\n",
       "      <th></th>\n",
       "      <th></th>\n",
       "      <th>Unnamed: 1</th>\n",
       "      <th>.1</th>\n",
       "      <th>.2</th>\n",
       "      <th>50</th>\n",
       "    </tr>\n",
       "  </thead>\n",
       "  <tbody>\n",
       "    <tr>\n",
       "      <th>0</th>\n",
       "      <td>Temp(�C)</td>\n",
       "      <td>55</td>\n",
       "      <td></td>\n",
       "      <td></td>\n",
       "      <td>50</td>\n",
       "    </tr>\n",
       "    <tr>\n",
       "      <th>1</th>\n",
       "      <td>Frequency(Hz)</td>\n",
       "      <td>C</td>\n",
       "      <td>D</td>\n",
       "      <td>Z</td>\n",
       "      <td>50</td>\n",
       "    </tr>\n",
       "    <tr>\n",
       "      <th>2</th>\n",
       "      <td>1.00E+02</td>\n",
       "      <td>8.44E-03</td>\n",
       "      <td>3.77E+02</td>\n",
       "      <td>6.24E+01</td>\n",
       "      <td>50</td>\n",
       "    </tr>\n",
       "    <tr>\n",
       "      <th>3</th>\n",
       "      <td>1.32E+02</td>\n",
       "      <td>2.19E-03</td>\n",
       "      <td>5.09E+02</td>\n",
       "      <td>6.15E+01</td>\n",
       "      <td>50</td>\n",
       "    </tr>\n",
       "    <tr>\n",
       "      <th>4</th>\n",
       "      <td>1.74E+02</td>\n",
       "      <td>4.81E-03</td>\n",
       "      <td>6.97E+02</td>\n",
       "      <td>6.10E+01</td>\n",
       "      <td>50</td>\n",
       "    </tr>\n",
       "  </tbody>\n",
       "</table>\n",
       "</div>"
      ],
      "text/plain": [
       "                 Unnamed: 1        .1        .2  50\n",
       "0       Temp(�C)         55                      50\n",
       "1  Frequency(Hz)          C         D         Z  50\n",
       "2       1.00E+02   8.44E-03  3.77E+02  6.24E+01  50\n",
       "3       1.32E+02   2.19E-03  5.09E+02  6.15E+01  50\n",
       "4       1.74E+02   4.81E-03  6.97E+02  6.10E+01  50"
      ]
     },
     "execution_count": 4,
     "metadata": {},
     "output_type": "execute_result"
    }
   ],
   "source": [
    "\n",
    "\n",
    "dat = pd.read_csv(r\"F:\\CMP\\SThota work\\Compounds\\La0.5Nd0.5 series\\Co0.5Mn0.5\\Dielectric\\LNCMO-50%\\lncmo-50-55C-525C-31-07-2022.csv\")\n",
    "dat.head()\n"
   ]
  },
  {
   "cell_type": "code",
   "execution_count": 5,
   "id": "88d56ddb",
   "metadata": {},
   "outputs": [],
   "source": [
    "def templist(n, s):\n",
    "    f = np.array(dat[dat.columns[0]].iloc[n:n+s-3])\n",
    "    f = [float(i) for i in f]\n",
    "    zn = np.array(dat[dat.columns[1]].iloc[n:n+s-3])\n",
    "    zn = [float(i) for i in zn]\n",
    "    pn = np.array(dat[dat.columns[2]].iloc[n:n+s-3])\n",
    "    pn = [float(i) for i in pn]\n",
    "    cn = np.array(dat[dat.columns[3]].iloc[n:n+s-3])\n",
    "    cn = [float(i) for i in cn]\n",
    "    dn = np.array(dat[dat.columns[4]].iloc[n:n+s-3])\n",
    "    dn = [float(i) for i in dn]\n",
    "    T = np.array([f, zn, pn, cn, dn])\n",
    "    #print(T)\n",
    "    \n",
    "    return T    "
   ]
  },
  {
   "cell_type": "code",
   "execution_count": 6,
   "id": "21c83c2f",
   "metadata": {},
   "outputs": [],
   "source": [
    "def freqset(k, t, t0, h, s):\n",
    "    ds = [templist(n+j*s, s) for j in range(t)]\n",
    "    z = [ds[j][1][k] for j in range(t)]\n",
    "    p = [ds[j][2][k] for j in range(t)]\n",
    "    c = [ds[j][3][k] for j in range(t)]\n",
    "    d = [ds[j][4][k] for j in range(t)]\n",
    "    T = [t0 + (i)*h for i in range(t)]\n",
    "    f = [T, z, p, c, d]\n",
    "    return f \n",
    "\n"
   ]
  },
  {
   "cell_type": "code",
   "execution_count": 7,
   "id": "fff9025c",
   "metadata": {},
   "outputs": [
    {
     "name": "stdout",
     "output_type": "stream",
     "text": [
      "First data point index in excel sheet: 2\n",
      "Cell spacing across temperatures: 43\n",
      "Starting temperature: 55\n",
      "No of Temperature points: 95\n",
      "Temperature step size: 5\n"
     ]
    }
   ],
   "source": [
    "n = input(\"First data point index in excel sheet: \")\n",
    "n = int(n)\n",
    "s = input(\"Cell spacing across temperatures: \")\n",
    "s = int(s)\n",
    "t0 = input(\"Starting temperature: \")\n",
    "t0 = int(t0)\n",
    "t = input(\"No of Temperature points: \")\n",
    "t = int(t)\n",
    "h = input(\"Temperature step size: \")\n",
    "h = int(h)\n",
    "\n"
   ]
  },
  {
   "cell_type": "code",
   "execution_count": 10,
   "id": "4b3092f1",
   "metadata": {},
   "outputs": [],
   "source": [
    "\n",
    "\n",
    "\n",
    "\n",
    "data = [freqset(k, t, t0, h, s) for k in range(s-3)]\n",
    "dataset = [pd.DataFrame(data[j]).T for j in range(s-3)]\n",
    "\n",
    "for i in range(s-3):\n",
    "    dataset[i].columns = ['Temp', dat.columns[1], dat.columns[2], dat.columns[3], dat.columns[4]]\n",
    "    \n",
    "with pd.ExcelWriter(r\"F:\\CMP\\SThota work\\Compounds\\La0.5Nd0.5 series\\Co0.5Mn0.5\\Dielectric\\LNCMO-50%\\lncmo50 tempvar.xlsx\", engine='xlsxwriter') as writer:\n",
    "    for k in range(s-3):\n",
    "        dataset[k].to_excel(writer, dat[dat.columns[0]].iloc[k+2])\n",
    "        \n"
   ]
  },
  {
   "cell_type": "code",
   "execution_count": 11,
   "id": "25f6c6dc",
   "metadata": {},
   "outputs": [
    {
     "data": {
      "text/html": [
       "<div>\n",
       "<style scoped>\n",
       "    .dataframe tbody tr th:only-of-type {\n",
       "        vertical-align: middle;\n",
       "    }\n",
       "\n",
       "    .dataframe tbody tr th {\n",
       "        vertical-align: top;\n",
       "    }\n",
       "\n",
       "    .dataframe thead th {\n",
       "        text-align: right;\n",
       "    }\n",
       "</style>\n",
       "<table border=\"1\" class=\"dataframe\">\n",
       "  <thead>\n",
       "    <tr style=\"text-align: right;\">\n",
       "      <th></th>\n",
       "      <th>Temp</th>\n",
       "      <th>Unnamed: 1</th>\n",
       "      <th>.1</th>\n",
       "      <th>.2</th>\n",
       "      <th>50</th>\n",
       "    </tr>\n",
       "  </thead>\n",
       "  <tbody>\n",
       "    <tr>\n",
       "      <th>0</th>\n",
       "      <td>55.0</td>\n",
       "      <td>-9.540000e-10</td>\n",
       "      <td>2.36</td>\n",
       "      <td>85.7</td>\n",
       "      <td>50.0</td>\n",
       "    </tr>\n",
       "    <tr>\n",
       "      <th>1</th>\n",
       "      <td>60.0</td>\n",
       "      <td>-9.340000e-10</td>\n",
       "      <td>2.31</td>\n",
       "      <td>85.8</td>\n",
       "      <td>50.0</td>\n",
       "    </tr>\n",
       "    <tr>\n",
       "      <th>2</th>\n",
       "      <td>65.0</td>\n",
       "      <td>-9.220000e-10</td>\n",
       "      <td>2.28</td>\n",
       "      <td>85.5</td>\n",
       "      <td>50.0</td>\n",
       "    </tr>\n",
       "    <tr>\n",
       "      <th>3</th>\n",
       "      <td>70.0</td>\n",
       "      <td>-9.140000e-10</td>\n",
       "      <td>2.24</td>\n",
       "      <td>85.6</td>\n",
       "      <td>50.0</td>\n",
       "    </tr>\n",
       "    <tr>\n",
       "      <th>4</th>\n",
       "      <td>75.0</td>\n",
       "      <td>-9.010000e-10</td>\n",
       "      <td>2.20</td>\n",
       "      <td>85.5</td>\n",
       "      <td>50.0</td>\n",
       "    </tr>\n",
       "  </tbody>\n",
       "</table>\n",
       "</div>"
      ],
      "text/plain": [
       "   Temp    Unnamed: 1    .1    .2    50\n",
       "0  55.0 -9.540000e-10  2.36  85.7  50.0\n",
       "1  60.0 -9.340000e-10  2.31  85.8  50.0\n",
       "2  65.0 -9.220000e-10  2.28  85.5  50.0\n",
       "3  70.0 -9.140000e-10  2.24  85.6  50.0\n",
       "4  75.0 -9.010000e-10  2.20  85.5  50.0"
      ]
     },
     "execution_count": 11,
     "metadata": {},
     "output_type": "execute_result"
    }
   ],
   "source": [
    "dataset[k].head()"
   ]
  },
  {
   "cell_type": "code",
   "execution_count": null,
   "id": "c07a49df",
   "metadata": {},
   "outputs": [],
   "source": []
  }
 ],
 "metadata": {
  "kernelspec": {
   "display_name": "Python 3",
   "language": "python",
   "name": "python3"
  },
  "language_info": {
   "codemirror_mode": {
    "name": "ipython",
    "version": 3
   },
   "file_extension": ".py",
   "mimetype": "text/x-python",
   "name": "python",
   "nbconvert_exporter": "python",
   "pygments_lexer": "ipython3",
   "version": "3.8.8"
  }
 },
 "nbformat": 4,
 "nbformat_minor": 5
}
