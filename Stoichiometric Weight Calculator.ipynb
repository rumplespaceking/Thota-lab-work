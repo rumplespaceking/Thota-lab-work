{
 "cells": [
  {
   "cell_type": "code",
   "execution_count": 1,
   "id": "11b1257f",
   "metadata": {},
   "outputs": [],
   "source": [
    "import numpy as np\n",
    "from decimal import Decimal\n"
   ]
  },
  {
   "cell_type": "code",
   "execution_count": 2,
   "id": "22dd3e30",
   "metadata": {},
   "outputs": [
    {
     "name": "stdout",
     "output_type": "stream",
     "text": [
      "Coefficient of element A: 0.5\n",
      "Coefficient of element A': 0.5\n",
      "Coefficient of element B: 1\n",
      "Coefficient of element B': 0\n",
      "Number of O atoms: 3\n",
      "Oxide Coefficient of element A: 2\n",
      "Oxide Coefficient of element A': 2\n",
      "Oxide Coefficient of element B: 1\n",
      "Oxide Coefficient of element B': 1\n",
      "Molecular weight of oxide A: 325.82\n",
      "Molecular weight of oxide A': 336.48\n",
      "Molecular weight of oxide B: 86.94\n",
      "Molecular weight of oxide B': 1\n",
      "Atomic weight of A: 138.9055\n",
      "Atomic weight of A': 144.242\n",
      "Atomic weight of B: 54.9380\n",
      "Atomic weight of B': 1\n",
      "Purity of oxide A: 99.9\n",
      "Purity of oxide A': 99.9\n",
      "Purity of oxide B: 99.9\n",
      "Purity of oxide B': 1\n",
      "Desired weight of output compound(grams): 5\n"
     ]
    }
   ],
   "source": [
    "#Inputting all reaction parameters\n",
    "\n",
    "#Inputting coefficient of elements\n",
    "a1 = input(\"Coefficient of element A: \")\n",
    "a1 = Decimal(a1)\n",
    "a2 = input(\"Coefficient of element A': \")\n",
    "a2 = Decimal(a2)\n",
    "a3 = input(\"Coefficient of element B: \")\n",
    "a3 = Decimal(a3)\n",
    "a4 = input(\"Coefficient of element B': \")\n",
    "a4 = Decimal(a4)\n",
    "i = input(\"Number of O atoms: \")\n",
    "i = Decimal(i)\n",
    "\n",
    "#Inputting elemental oxide coefficients\n",
    "o1 = input(\"Oxide Coefficient of element A: \")\n",
    "o1 = Decimal(o1)\n",
    "o2 = input(\"Oxide Coefficient of element A': \")\n",
    "o2 = Decimal(o2)\n",
    "o3 = input(\"Oxide Coefficient of element B: \")\n",
    "o3 = Decimal(o3)\n",
    "o4 = input(\"Oxide Coefficient of element B': \")\n",
    "o4 = Decimal(o4)\n",
    "\n",
    "#Inputting molecular weights of each oxide\n",
    "m1 = input(\"Molecular weight of oxide A: \")\n",
    "m1 = Decimal(m1)\n",
    "m2 = input(\"Molecular weight of oxide A': \")\n",
    "m2 = Decimal(m2)\n",
    "m3 = input(\"Molecular weight of oxide B: \")\n",
    "m3 = Decimal(m3)\n",
    "m4 = input(\"Molecular weight of oxide B': \")\n",
    "m4 = Decimal(m4)\n",
    "\n",
    "#Inputting atomic weights of each element\n",
    "aw1 = input(\"Atomic weight of A: \")\n",
    "aw1 = Decimal(aw1)\n",
    "aw2 = input(\"Atomic weight of A': \")\n",
    "aw2 = Decimal(aw2)\n",
    "aw3 = input(\"Atomic weight of B: \")\n",
    "aw3 = Decimal(aw3)\n",
    "aw4 = input(\"Atomic weight of B': \")\n",
    "aw4 = Decimal(aw4)\n",
    "\n",
    "#Inputting purity of each sample\n",
    "p1 = input(\"Purity of oxide A: \")\n",
    "p1 = Decimal(p1)\n",
    "p2 = input(\"Purity of oxide A': \")\n",
    "p2 = Decimal(p2)\n",
    "p3 = input(\"Purity of oxide B: \")\n",
    "p3 = Decimal(p3)\n",
    "p4 = input(\"Purity of oxide B': \")\n",
    "p4 = Decimal(p4)\n",
    "\n",
    "wfinal = input(\"Desired weight of output compound(grams): \")\n",
    "wfinal = Decimal(wfinal)\n"
   ]
  },
  {
   "cell_type": "code",
   "execution_count": 3,
   "id": "a5c1df37",
   "metadata": {},
   "outputs": [],
   "source": [
    "a = [a1, a2, a3, a4]\n",
    "a = np.array(a)\n",
    "o = [o1, o2, o3, o4]\n",
    "o = np.array(o)\n",
    "m = [m1, m2, m3, m4]\n",
    "m = np.array(m)\n",
    "p = [p1, p2, p3, p4]\n",
    "p = np.array(p)\n",
    "aw = [aw1, aw2, aw3, aw4]\n",
    "aw = np.array(aw)\n"
   ]
  },
  {
   "cell_type": "code",
   "execution_count": 4,
   "id": "8bd121eb",
   "metadata": {},
   "outputs": [],
   "source": [
    "#Calculation\n",
    "c = np.divide(a, o)\n",
    "n = wfinal / (np.dot(a, aw) + i * Decimal(15.999))\n",
    "w = Decimal(100) * c * m * n\n",
    "w = np.divide(w, p)\n"
   ]
  },
  {
   "cell_type": "code",
   "execution_count": 5,
   "id": "cd3bdca1",
   "metadata": {},
   "outputs": [
    {
     "name": "stdout",
     "output_type": "stream",
     "text": [
      "Required weight of A precursor is(grams):  1.667354164964168684803398366\n",
      "Required weight of A' precursor is(grams):  1.721905743745452946604405753\n",
      "Required weight of B precursor is(grams):  1.779630116039344735827235332\n",
      "Required weight of B' precursor is(grams):  0E-29\n"
     ]
    }
   ],
   "source": [
    "#Printing results\n",
    "print(\"Required weight of A precursor is(grams): \", w[0])\n",
    "print(\"Required weight of A' precursor is(grams): \", w[1])\n",
    "print(\"Required weight of B precursor is(grams): \", w[2])\n",
    "print(\"Required weight of B' precursor is(grams): \", w[3])"
   ]
  },
  {
   "cell_type": "code",
   "execution_count": null,
   "id": "102e1a70",
   "metadata": {},
   "outputs": [],
   "source": []
  }
 ],
 "metadata": {
  "kernelspec": {
   "display_name": "Python 3",
   "language": "python",
   "name": "python3"
  },
  "language_info": {
   "codemirror_mode": {
    "name": "ipython",
    "version": 3
   },
   "file_extension": ".py",
   "mimetype": "text/x-python",
   "name": "python",
   "nbconvert_exporter": "python",
   "pygments_lexer": "ipython3",
   "version": "3.8.8"
  }
 },
 "nbformat": 4,
 "nbformat_minor": 5
}
